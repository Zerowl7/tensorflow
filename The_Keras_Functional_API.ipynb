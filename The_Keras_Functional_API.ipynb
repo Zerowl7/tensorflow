{
  "nbformat": 4,
  "nbformat_minor": 0,
  "metadata": {
    "colab": {
      "name": "The Keras Functional API.ipynb",
      "provenance": [],
      "authorship_tag": "ABX9TyNpNSuZEPQCIbZEels2+1vb",
      "include_colab_link": true
    },
    "kernelspec": {
      "name": "python3",
      "display_name": "Python 3"
    },
    "language_info": {
      "name": "python"
    }
  },
  "cells": [
    {
      "cell_type": "markdown",
      "metadata": {
        "id": "view-in-github",
        "colab_type": "text"
      },
      "source": [
        "<a href=\"https://colab.research.google.com/github/Zerowl7/tensorflow/blob/main/The_Keras_Functional_API.ipynb\" target=\"_parent\"><img src=\"https://colab.research.google.com/assets/colab-badge.svg\" alt=\"Open In Colab\"/></a>"
      ]
    },
    {
      "cell_type": "markdown",
      "source": [
        "# Создаем слои"
      ],
      "metadata": {
        "id": "N5h8p69sPOma"
      }
    },
    {
      "cell_type": "code",
      "source": [
        "# Load layers\n",
        "from keras.layers import Input, Dense\n",
        "\n",
        "# Input layer\n",
        "input_tensor = Input(shape=(1,))\n",
        "\n",
        "# Коннектим за один шаг\n",
        "# Note that we did this in 2 steps in the previous exercise, but are doing it in one step now\n",
        "output_tensor = Dense(1)(input_tensor)"
      ],
      "metadata": {
        "id": "pevH4oSUPrWp"
      },
      "execution_count": 75,
      "outputs": []
    },
    {
      "cell_type": "markdown",
      "source": [
        "Выходной слой позволяет вашей модели делать прогнозы."
      ],
      "metadata": {
        "id": "th9sQbBcQSxm"
      }
    },
    {
      "cell_type": "markdown",
      "source": [
        "# Построение модели"
      ],
      "metadata": {
        "id": "EEYJ6225QZ3t"
      }
    },
    {
      "cell_type": "code",
      "source": [
        "# Input/dense/output layers\n",
        "from keras.layers import Input, Dense\n",
        "input_tensor = Input(shape=(1,))\n",
        "output_tensor = Dense(1)(input_tensor)\n",
        "\n",
        "# Build the model\n",
        "from keras.models import Model\n",
        "model = Model(input_tensor, output_tensor)"
      ],
      "metadata": {
        "id": "x89WYnpiQSGm"
      },
      "execution_count": 76,
      "outputs": []
    },
    {
      "cell_type": "markdown",
      "source": [
        "# Компилируем модель"
      ],
      "metadata": {
        "id": "3__Ue2uYQkM1"
      }
    },
    {
      "cell_type": "code",
      "source": [
        "# Compile the model\n",
        "model.compile(optimizer='adam', loss='mean_absolute_error')"
      ],
      "metadata": {
        "id": "VQ8YD1A7Qhmm"
      },
      "execution_count": 77,
      "outputs": []
    },
    {
      "cell_type": "markdown",
      "source": [
        "# Визуализация модели"
      ],
      "metadata": {
        "id": "fGHT7RsuQ67t"
      }
    },
    {
      "cell_type": "code",
      "source": [
        "# Импортируем графики из matplotlib\n",
        "from keras.utils.vis_utils import plot_model\n",
        "import matplotlib.pyplot as plt\n",
        "\n",
        "# Summarize the model\n",
        "model.summary()\n",
        "\n",
        "# # График подгружается в png\n",
        "plot_model(model, to_file='model.png')\n",
        "\n",
        "# # Выводим изображение\n",
        "data = plt.imread('model.png')\n",
        "plt.imshow(data)\n",
        "plt.show()"
      ],
      "metadata": {
        "colab": {
          "base_uri": "https://localhost:8080/",
          "height": 505
        },
        "id": "YIDBVI7RQzsb",
        "outputId": "ae7efbe4-bb6a-4fbc-f213-2858c6fd3a95"
      },
      "execution_count": 78,
      "outputs": [
        {
          "output_type": "stream",
          "name": "stdout",
          "text": [
            "Model: \"model_7\"\n",
            "_________________________________________________________________\n",
            " Layer (type)                Output Shape              Param #   \n",
            "=================================================================\n",
            " input_14 (InputLayer)       [(None, 1)]               0         \n",
            "                                                                 \n",
            " dense_12 (Dense)            (None, 1)                 2         \n",
            "                                                                 \n",
            "=================================================================\n",
            "Total params: 2\n",
            "Trainable params: 2\n",
            "Non-trainable params: 0\n",
            "_________________________________________________________________\n"
          ]
        },
        {
          "output_type": "display_data",
          "data": {
            "text/plain": [
              "<Figure size 432x288 with 1 Axes>"
            ],
            "image/png": "[encoded data removed]"
          },
          "metadata": {
            "needs_background": "light"
          }
        }
      ]
    },
    {
      "cell_type": "markdown",
      "source": [
        "Получаем 2 Тренированных слоя"
      ],
      "metadata": {
        "id": "aKEFoL-sSTXO"
      }
    },
    {
      "cell_type": "markdown",
      "source": [
        "# Фитим модель с баскетбольными играми"
      ],
      "metadata": {
        "id": "5gnRsoyiSXLo"
      }
    },
    {
      "cell_type": "code",
      "source": [
        "import pandas as pd\n",
        "\n",
        "games_tourney_train = pd.read_csv('games_tourney.csv')\n",
        "games_tourney_train.head()"
      ],
      "metadata": {
        "colab": {
          "base_uri": "https://localhost:8080/",
          "height": 206
        },
        "id": "vJllMltQRsf0",
        "outputId": "8a9ee425-50c1-492d-afbb-650c47439578"
      },
      "execution_count": 79,
      "outputs": [
        {
          "output_type": "execute_result",
          "data": {
            "text/plain": [
              "   season  team_1  team_2  home  seed_diff  score_diff  score_1  score_2  won\n",
              "0    1985     288      73     0         -3          -9       41       50    0\n",
              "1    1985    5929      73     0          4           6       61       55    1\n",
              "2    1985    9884      73     0          5          -4       59       63    0\n",
              "3    1985      73     288     0          3           9       50       41    1\n",
              "4    1985    3920     410     0          1          -9       54       63    0"
            ],
            "text/html": [
              "\n",
              "  <div id=\"df-ef8140a9-f82a-46a4-800d-c3acd227e3c4\">\n",
              "    <div class=\"colab-df-container\">\n",
              "      <div>\n",
              "<style scoped>\n",
              "    .dataframe tbody tr th:only-of-type {\n",
              "        vertical-align: middle;\n",
              "    }\n",
              "\n",
              "    .dataframe tbody tr th {\n",
              "        vertical-align: top;\n",
              "    }\n",
              "\n",
              "    .dataframe thead th {\n",
              "        text-align: right;\n",
              "    }\n",
              "</style>\n",
              "<table border=\"1\" class=\"dataframe\">\n",
              "  <thead>\n",
              "    <tr style=\"text-align: right;\">\n",
              "      <th></th>\n",
              "      <th>season</th>\n",
              "      <th>team_1</th>\n",
              "      <th>team_2</th>\n",
              "      <th>home</th>\n",
              "      <th>seed_diff</th>\n",
              "      <th>score_diff</th>\n",
              "      <th>score_1</th>\n",
              "      <th>score_2</th>\n",
              "      <th>won</th>\n",
              "    </tr>\n",
              "  </thead>\n",
              "  <tbody>\n",
              "    <tr>\n",
              "      <th>0</th>\n",
              "      <td>1985</td>\n",
              "      <td>288</td>\n",
              "      <td>73</td>\n",
              "      <td>0</td>\n",
              "      <td>-3</td>\n",
              "      <td>-9</td>\n",
              "      <td>41</td>\n",
              "      <td>50</td>\n",
              "      <td>0</td>\n",
              "    </tr>\n",
              "    <tr>\n",
              "      <th>1</th>\n",
              "      <td>1985</td>\n",
              "      <td>5929</td>\n",
              "      <td>73</td>\n",
              "      <td>0</td>\n",
              "      <td>4</td>\n",
              "      <td>6</td>\n",
              "      <td>61</td>\n",
              "      <td>55</td>\n",
              "      <td>1</td>\n",
              "    </tr>\n",
              "    <tr>\n",
              "      <th>2</th>\n",
              "      <td>1985</td>\n",
              "      <td>9884</td>\n",
              "      <td>73</td>\n",
              "      <td>0</td>\n",
              "      <td>5</td>\n",
              "      <td>-4</td>\n",
              "      <td>59</td>\n",
              "      <td>63</td>\n",
              "      <td>0</td>\n",
              "    </tr>\n",
              "    <tr>\n",
              "      <th>3</th>\n",
              "      <td>1985</td>\n",
              "      <td>73</td>\n",
              "      <td>288</td>\n",
              "      <td>0</td>\n",
              "      <td>3</td>\n",
              "      <td>9</td>\n",
              "      <td>50</td>\n",
              "      <td>41</td>\n",
              "      <td>1</td>\n",
              "    </tr>\n",
              "    <tr>\n",
              "      <th>4</th>\n",
              "      <td>1985</td>\n",
              "      <td>3920</td>\n",
              "      <td>410</td>\n",
              "      <td>0</td>\n",
              "      <td>1</td>\n",
              "      <td>-9</td>\n",
              "      <td>54</td>\n",
              "      <td>63</td>\n",
              "      <td>0</td>\n",
              "    </tr>\n",
              "  </tbody>\n",
              "</table>\n",
              "</div>\n",
              "      <button class=\"colab-df-convert\" onclick=\"convertToInteractive('df-ef8140a9-f82a-46a4-800d-c3acd227e3c4')\"\n",
              "              title=\"Convert this dataframe to an interactive table.\"\n",
              "              style=\"display:none;\">\n",
              "        \n",
              "  <svg xmlns=\"http://www.w3.org/2000/svg\" height=\"24px\"viewBox=\"0 0 24 24\"\n",
              "       width=\"24px\">\n",
              "    <path d=\"M0 0h24v24H0V0z\" fill=\"none\"/>\n",
              "    <path d=\"M18.56 5.44l.94 2.06.94-2.06 2.06-.94-2.06-.94-.94-2.06-.94 2.06-2.06.94zm-11 1L8.5 8.5l.94-2.06 2.06-.94-2.06-.94L8.5 2.5l-.94 2.06-2.06.94zm10 10l.94 2.06.94-2.06 2.06-.94-2.06-.94-.94-2.06-.94 2.06-2.06.94z\"/><path d=\"M17.41 7.96l-1.37-1.37c-.4-.4-.92-.59-1.43-.59-.52 0-1.04.2-1.43.59L10.3 9.45l-7.72 7.72c-.78.78-.78 2.05 0 2.83L4 21.41c.39.39.9.59 1.41.59.51 0 1.02-.2 1.41-.59l7.78-7.78 2.81-2.81c.8-.78.8-2.07 0-2.86zM5.41 20L4 18.59l7.72-7.72 1.47 1.35L5.41 20z\"/>\n",
              "  </svg>\n",
              "      </button>\n",
              "      \n",
              "  <style>\n",
              "    .colab-df-container {\n",
              "      display:flex;\n",
              "      flex-wrap:wrap;\n",
              "      gap: 12px;\n",
              "    }\n",
              "\n",
              "    .colab-df-convert {\n",
              "      background-color: #E8F0FE;\n",
              "      border: none;\n",
              "      border-radius: 50%;\n",
              "      cursor: pointer;\n",
              "      display: none;\n",
              "      fill: #1967D2;\n",
              "      height: 32px;\n",
              "      padding: 0 0 0 0;\n",
              "      width: 32px;\n",
              "    }\n",
              "\n",
              "    .colab-df-convert:hover {\n",
              "      background-color: #E2EBFA;\n",
              "      box-shadow: 0px 1px 2px rgba(60, 64, 67, 0.3), 0px 1px 3px 1px rgba(60, 64, 67, 0.15);\n",
              "      fill: #174EA6;\n",
              "    }\n",
              "\n",
              "    [theme=dark] .colab-df-convert {\n",
              "      background-color: #3B4455;\n",
              "      fill: #D2E3FC;\n",
              "    }\n",
              "\n",
              "    [theme=dark] .colab-df-convert:hover {\n",
              "      background-color: #434B5C;\n",
              "      box-shadow: 0px 1px 3px 1px rgba(0, 0, 0, 0.15);\n",
              "      filter: drop-shadow(0px 1px 2px rgba(0, 0, 0, 0.3));\n",
              "      fill: #FFFFFF;\n",
              "    }\n",
              "  </style>\n",
              "\n",
              "      <script>\n",
              "        const buttonEl =\n",
              "          document.querySelector('#df-ef8140a9-f82a-46a4-800d-c3acd227e3c4 button.colab-df-convert');\n",
              "        buttonEl.style.display =\n",
              "          google.colab.kernel.accessAllowed ? 'block' : 'none';\n",
              "\n",
              "        async function convertToInteractive(key) {\n",
              "          const element = document.querySelector('#df-ef8140a9-f82a-46a4-800d-c3acd227e3c4');\n",
              "          const dataTable =\n",
              "            await google.colab.kernel.invokeFunction('convertToInteractive',\n",
              "                                                     [key], {});\n",
              "          if (!dataTable) return;\n",
              "\n",
              "          const docLinkHtml = 'Like what you see? Visit the ' +\n",
              "            '<a target=\"_blank\" href=https://colab.research.google.com/notebooks/data_table.ipynb>data table notebook</a>'\n",
              "            + ' to learn more about interactive tables.';\n",
              "          element.innerHTML = '';\n",
              "          dataTable['output_type'] = 'display_data';\n",
              "          await google.colab.output.renderOutput(dataTable, element);\n",
              "          const docLink = document.createElement('div');\n",
              "          docLink.innerHTML = docLinkHtml;\n",
              "          element.appendChild(docLink);\n",
              "        }\n",
              "      </script>\n",
              "    </div>\n",
              "  </div>\n",
              "  "
            ]
          },
          "metadata": {},
          "execution_count": 79
        }
      ]
    },
    {
      "cell_type": "code",
      "source": [
        "games_tourney_train.shape"
      ],
      "metadata": {
        "colab": {
          "base_uri": "https://localhost:8080/"
        },
        "id": "kgVTAMvZSehO",
        "outputId": "0ac5bc38-aa99-496e-d9fe-e79a9d410d75"
      },
      "execution_count": 80,
      "outputs": [
        {
          "output_type": "execute_result",
          "data": {
            "text/plain": [
              "(4234, 9)"
            ]
          },
          "metadata": {},
          "execution_count": 80
        }
      ]
    },
    {
      "cell_type": "markdown",
      "source": [
        "имеет 4234 строчек"
      ],
      "metadata": {
        "id": "_rhjpHlMToHV"
      }
    },
    {
      "cell_type": "markdown",
      "source": [
        "# Разделяем на подвыборки"
      ],
      "metadata": {
        "id": "h_Gx93pRT0eF"
      }
    },
    {
      "cell_type": "code",
      "source": [
        "from sklearn.model_selection import train_test_split\n",
        "\n",
        "X_train, X_test, y_train, y_test = train_test_split(games_tourney_train['seed_diff'], games_tourney_train['score_diff'])"
      ],
      "metadata": {
        "id": "1KEd0sgVSuzE"
      },
      "execution_count": 81,
      "outputs": []
    },
    {
      "cell_type": "code",
      "source": [
        "# Фитим новую модель\n",
        "model.fit(X_train, y_train,\n",
        "          epochs=1,\n",
        "          batch_size=128,\n",
        "          validation_split=.10,\n",
        "          verbose=True)"
      ],
      "metadata": {
        "colab": {
          "base_uri": "https://localhost:8080/"
        },
        "id": "42GFdd7-T9Fj",
        "outputId": "2fea2c4a-6921-48bf-8779-e2915ac6beee"
      },
      "execution_count": 82,
      "outputs": [
        {
          "output_type": "stream",
          "name": "stdout",
          "text": [
            "23/23 [==============================] - 0s 7ms/step - loss: 14.7130 - val_loss: 15.6596\n"
          ]
        },
        {
          "output_type": "execute_result",
          "data": {
            "text/plain": [
              "<keras.callbacks.History at 0x7f2245672a10>"
            ]
          },
          "metadata": {},
          "execution_count": 82
        }
      ]
    },
    {
      "cell_type": "markdown",
      "source": [
        "# Оцениваем модель на тестовом наборе"
      ],
      "metadata": {
        "id": "haj56ORqUkn1"
      }
    },
    {
      "cell_type": "code",
      "source": [
        "model.evaluate(X_test, y_test)"
      ],
      "metadata": {
        "colab": {
          "base_uri": "https://localhost:8080/"
        },
        "id": "quxQ-ohUUe6J",
        "outputId": "65b7f5ce-05c4-4140-ef94-7cd30813e2c1"
      },
      "execution_count": 83,
      "outputs": [
        {
          "output_type": "stream",
          "name": "stdout",
          "text": [
            "34/34 [==============================] - 0s 1ms/step - loss: 14.9824\n"
          ]
        },
        {
          "output_type": "execute_result",
          "data": {
            "text/plain": [
              "14.982434272766113"
            ]
          },
          "metadata": {},
          "execution_count": 83
        }
      ]
    },
    {
      "cell_type": "markdown",
      "source": [
        "# Две входные сети с использованием категориальных вложений Shared Layers, and Merge Layers"
      ],
      "metadata": {
        "id": "gEB9VhEXVIaT"
      }
    },
    {
      "cell_type": "markdown",
      "source": [
        "# Определить поиск команды"
      ],
      "metadata": {
        "id": "R-6qxgxQVPMC"
      }
    },
    {
      "cell_type": "code",
      "source": [
        "games_season = pd.read_csv('games_season.csv')\n",
        "games_season.head()"
      ],
      "metadata": {
        "colab": {
          "base_uri": "https://localhost:8080/",
          "height": 206
        },
        "id": "pHssbjDpUrZv",
        "outputId": "978e5fd4-fa79-48aa-9aa4-d3e4c0ef39c3"
      },
      "execution_count": 84,
      "outputs": [
        {
          "output_type": "execute_result",
          "data": {
            "text/plain": [
              "   season  team_1  team_2  home  score_diff  score_1  score_2  won\n",
              "0    1985    3745    6664     0          17       81       64    1\n",
              "1    1985     126    7493     1           7       77       70    1\n",
              "2    1985     288    3593     1           7       63       56    1\n",
              "3    1985    1846    9881     1          16       70       54    1\n",
              "4    1985    2675   10298     1          12       86       74    1"
            ],
            "text/html": [
              "\n",
              "  <div id=\"df-23019450-2e02-4f95-949b-b8206a8912ad\">\n",
              "    <div class=\"colab-df-container\">\n",
              "      <div>\n",
              "<style scoped>\n",
              "    .dataframe tbody tr th:only-of-type {\n",
              "        vertical-align: middle;\n",
              "    }\n",
              "\n",
              "    .dataframe tbody tr th {\n",
              "        vertical-align: top;\n",
              "    }\n",
              "\n",
              "    .dataframe thead th {\n",
              "        text-align: right;\n",
              "    }\n",
              "</style>\n",
              "<table border=\"1\" class=\"dataframe\">\n",
              "  <thead>\n",
              "    <tr style=\"text-align: right;\">\n",
              "      <th></th>\n",
              "      <th>season</th>\n",
              "      <th>team_1</th>\n",
              "      <th>team_2</th>\n",
              "      <th>home</th>\n",
              "      <th>score_diff</th>\n",
              "      <th>score_1</th>\n",
              "      <th>score_2</th>\n",
              "      <th>won</th>\n",
              "    </tr>\n",
              "  </thead>\n",
              "  <tbody>\n",
              "    <tr>\n",
              "      <th>0</th>\n",
              "      <td>1985</td>\n",
              "      <td>3745</td>\n",
              "      <td>6664</td>\n",
              "      <td>0</td>\n",
              "      <td>17</td>\n",
              "      <td>81</td>\n",
              "      <td>64</td>\n",
              "      <td>1</td>\n",
              "    </tr>\n",
              "    <tr>\n",
              "      <th>1</th>\n",
              "      <td>1985</td>\n",
              "      <td>126</td>\n",
              "      <td>7493</td>\n",
              "      <td>1</td>\n",
              "      <td>7</td>\n",
              "      <td>77</td>\n",
              "      <td>70</td>\n",
              "      <td>1</td>\n",
              "    </tr>\n",
              "    <tr>\n",
              "      <th>2</th>\n",
              "      <td>1985</td>\n",
              "      <td>288</td>\n",
              "      <td>3593</td>\n",
              "      <td>1</td>\n",
              "      <td>7</td>\n",
              "      <td>63</td>\n",
              "      <td>56</td>\n",
              "      <td>1</td>\n",
              "    </tr>\n",
              "    <tr>\n",
              "      <th>3</th>\n",
              "      <td>1985</td>\n",
              "      <td>1846</td>\n",
              "      <td>9881</td>\n",
              "      <td>1</td>\n",
              "      <td>16</td>\n",
              "      <td>70</td>\n",
              "      <td>54</td>\n",
              "      <td>1</td>\n",
              "    </tr>\n",
              "    <tr>\n",
              "      <th>4</th>\n",
              "      <td>1985</td>\n",
              "      <td>2675</td>\n",
              "      <td>10298</td>\n",
              "      <td>1</td>\n",
              "      <td>12</td>\n",
              "      <td>86</td>\n",
              "      <td>74</td>\n",
              "      <td>1</td>\n",
              "    </tr>\n",
              "  </tbody>\n",
              "</table>\n",
              "</div>\n",
              "      <button class=\"colab-df-convert\" onclick=\"convertToInteractive('df-23019450-2e02-4f95-949b-b8206a8912ad')\"\n",
              "              title=\"Convert this dataframe to an interactive table.\"\n",
              "              style=\"display:none;\">\n",
              "        \n",
              "  <svg xmlns=\"http://www.w3.org/2000/svg\" height=\"24px\"viewBox=\"0 0 24 24\"\n",
              "       width=\"24px\">\n",
              "    <path d=\"M0 0h24v24H0V0z\" fill=\"none\"/>\n",
              "    <path d=\"M18.56 5.44l.94 2.06.94-2.06 2.06-.94-2.06-.94-.94-2.06-.94 2.06-2.06.94zm-11 1L8.5 8.5l.94-2.06 2.06-.94-2.06-.94L8.5 2.5l-.94 2.06-2.06.94zm10 10l.94 2.06.94-2.06 2.06-.94-2.06-.94-.94-2.06-.94 2.06-2.06.94z\"/><path d=\"M17.41 7.96l-1.37-1.37c-.4-.4-.92-.59-1.43-.59-.52 0-1.04.2-1.43.59L10.3 9.45l-7.72 7.72c-.78.78-.78 2.05 0 2.83L4 21.41c.39.39.9.59 1.41.59.51 0 1.02-.2 1.41-.59l7.78-7.78 2.81-2.81c.8-.78.8-2.07 0-2.86zM5.41 20L4 18.59l7.72-7.72 1.47 1.35L5.41 20z\"/>\n",
              "  </svg>\n",
              "      </button>\n",
              "      \n",
              "  <style>\n",
              "    .colab-df-container {\n",
              "      display:flex;\n",
              "      flex-wrap:wrap;\n",
              "      gap: 12px;\n",
              "    }\n",
              "\n",
              "    .colab-df-convert {\n",
              "      background-color: #E8F0FE;\n",
              "      border: none;\n",
              "      border-radius: 50%;\n",
              "      cursor: pointer;\n",
              "      display: none;\n",
              "      fill: #1967D2;\n",
              "      height: 32px;\n",
              "      padding: 0 0 0 0;\n",
              "      width: 32px;\n",
              "    }\n",
              "\n",
              "    .colab-df-convert:hover {\n",
              "      background-color: #E2EBFA;\n",
              "      box-shadow: 0px 1px 2px rgba(60, 64, 67, 0.3), 0px 1px 3px 1px rgba(60, 64, 67, 0.15);\n",
              "      fill: #174EA6;\n",
              "    }\n",
              "\n",
              "    [theme=dark] .colab-df-convert {\n",
              "      background-color: #3B4455;\n",
              "      fill: #D2E3FC;\n",
              "    }\n",
              "\n",
              "    [theme=dark] .colab-df-convert:hover {\n",
              "      background-color: #434B5C;\n",
              "      box-shadow: 0px 1px 3px 1px rgba(0, 0, 0, 0.15);\n",
              "      filter: drop-shadow(0px 1px 2px rgba(0, 0, 0, 0.3));\n",
              "      fill: #FFFFFF;\n",
              "    }\n",
              "  </style>\n",
              "\n",
              "      <script>\n",
              "        const buttonEl =\n",
              "          document.querySelector('#df-23019450-2e02-4f95-949b-b8206a8912ad button.colab-df-convert');\n",
              "        buttonEl.style.display =\n",
              "          google.colab.kernel.accessAllowed ? 'block' : 'none';\n",
              "\n",
              "        async function convertToInteractive(key) {\n",
              "          const element = document.querySelector('#df-23019450-2e02-4f95-949b-b8206a8912ad');\n",
              "          const dataTable =\n",
              "            await google.colab.kernel.invokeFunction('convertToInteractive',\n",
              "                                                     [key], {});\n",
              "          if (!dataTable) return;\n",
              "\n",
              "          const docLinkHtml = 'Like what you see? Visit the ' +\n",
              "            '<a target=\"_blank\" href=https://colab.research.google.com/notebooks/data_table.ipynb>data table notebook</a>'\n",
              "            + ' to learn more about interactive tables.';\n",
              "          element.innerHTML = '';\n",
              "          dataTable['output_type'] = 'display_data';\n",
              "          await google.colab.output.renderOutput(dataTable, element);\n",
              "          const docLink = document.createElement('div');\n",
              "          docLink.innerHTML = docLinkHtml;\n",
              "          element.appendChild(docLink);\n",
              "        }\n",
              "      </script>\n",
              "    </div>\n",
              "  </div>\n",
              "  "
            ]
          },
          "metadata": {},
          "execution_count": 84
        }
      ]
    },
    {
      "cell_type": "code",
      "source": [
        "# Imports\n",
        "from keras.layers import Embedding\n",
        "from numpy import unique\n",
        "\n",
        "# уникальный номер команды\n",
        "n_teams = unique(games_season['team_1']).shape[0]\n",
        "\n",
        "# Создаем embedding layer\n",
        "team_lookup = Embedding(input_dim=n_teams,\n",
        "                        output_dim=1,\n",
        "                        input_length=1,\n",
        "                        name='Team-Strength')"
      ],
      "metadata": {
        "id": "RXYAf9ssVSOK"
      },
      "execution_count": 85,
      "outputs": []
    },
    {
      "cell_type": "markdown",
      "source": [
        "Embedding очень похож на словарь, но модель запоминает значения для каждого ключа."
      ],
      "metadata": {
        "id": "WisTdf9MVdhZ"
      }
    },
    {
      "cell_type": "markdown",
      "source": [
        "# Определить модель команды"
      ],
      "metadata": {
        "id": "UNDzgiEWWdnr"
      }
    },
    {
      "cell_type": "code",
      "source": [
        "# Imports\n",
        "from keras.layers import Input, Embedding, Flatten\n",
        "from keras.models import Model\n",
        "\n",
        "# Создаем Входной Слой\n",
        "teamid_in = Input(shape=(1,))\n",
        "\n",
        "# Поиск входных данных в embedding layer\n",
        "strength_lookup = team_lookup(teamid_in)\n",
        "\n",
        "# Сгладить вывод\n",
        "strength_lookup_flat = Flatten()(strength_lookup)\n",
        "\n",
        "# Объединение операций в единую повторно используемую модель\n",
        "team_strength_model = Model(teamid_in, strength_lookup_flat, name='Team-Strength-Model')"
      ],
      "metadata": {
        "id": "92qscibdVYey"
      },
      "execution_count": 86,
      "outputs": []
    },
    {
      "cell_type": "markdown",
      "source": [
        "![image.png](data:image/png;base64,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)"
      ],
      "metadata": {
        "id": "ppAoUGcvXq8L"
      }
    },
    {
      "cell_type": "markdown",
      "source": [
        "# Определение двух входов\n"
      ],
      "metadata": {
        "id": "0DMkY-_GX5MG"
      }
    },
    {
      "cell_type": "code",
      "source": [
        "# загружаем вход layer from keras.layers\n",
        "from keras.layers import Input\n",
        "\n",
        "# Input layer for team 1\n",
        "team_in_1 = Input((1,), name='Team-1-In')\n",
        "\n",
        "# Separate input layer for team 2\n",
        "team_in_2 = Input((1,), name='Team-2-In')"
      ],
      "metadata": {
        "id": "Q75KNbnxXrtJ"
      },
      "execution_count": 87,
      "outputs": []
    },
    {
      "cell_type": "markdown",
      "source": [
        "Эти два входа будут использоваться позже для общего слоя."
      ],
      "metadata": {
        "id": "k7CnXSd3mKjG"
      }
    },
    {
      "cell_type": "markdown",
      "source": [
        "# Поиск обоих входов в одной и той же модели"
      ],
      "metadata": {
        "id": "QXV3ab4qmOX_"
      }
    },
    {
      "cell_type": "code",
      "source": [
        "# Ищем team 1 in the team strength model\n",
        "team_1_strength = team_strength_model(team_in_1)\n",
        "\n",
        "# Ищем  team 2 in the team strength model\n",
        "team_2_strength = team_strength_model(team_in_2)"
      ],
      "metadata": {
        "id": "1Ly3w6x3mAIJ"
      },
      "execution_count": 88,
      "outputs": []
    },
    {
      "cell_type": "markdown",
      "source": [
        "Теперь модель знает, насколько сильна каждая команда."
      ],
      "metadata": {
        "id": "BySZwx1ImbCa"
      }
    },
    {
      "cell_type": "markdown",
      "source": [
        "# Выходной слой с использованием общего слоя"
      ],
      "metadata": {
        "id": "rpuIXR1Imga1"
      }
    },
    {
      "cell_type": "code",
      "source": [
        "# Импортируем слой Subtract из keras\n",
        "from keras.layers import Subtract\n",
        "\n",
        "# Создаем Substract, со слоями\n",
        "score_diff = Subtract()([team_1_strength, team_2_strength])"
      ],
      "metadata": {
        "id": "sjCL0uKjmW8b"
      },
      "execution_count": 89,
      "outputs": []
    },
    {
      "cell_type": "markdown",
      "source": [
        "Substract принимает в качестве входных данных список тензоров размера 2 одинаковой формы и возвращает один тензор"
      ],
      "metadata": {
        "id": "RRdPkfyUmyko"
      }
    },
    {
      "cell_type": "markdown",
      "source": [
        "Эта установка вычитает рейтинг силы команды, чтобы определить победителя."
      ],
      "metadata": {
        "id": "s5njaUtZnCRu"
      }
    },
    {
      "cell_type": "markdown",
      "source": [
        "![image.png](data:image/png;base64,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)"
      ],
      "metadata": {
        "id": "n4x6d8HBnIh-"
      }
    },
    {
      "cell_type": "code",
      "source": [
        "# Imports\n",
        "from keras.layers import Subtract\n",
        "from keras.models import Model\n",
        "\n",
        "# Subtraction layer из предыдущего примера\n",
        "score_diff = Subtract()([team_1_strength, team_2_strength])\n",
        "\n",
        "# Создаем модель\n",
        "model = Model([team_in_1, team_in_2], score_diff)\n",
        "\n",
        "# Компилируем\n",
        "model.compile(optimizer='adam', loss='mean_absolute_error')"
      ],
      "metadata": {
        "id": "Hb_3tz5_m07V"
      },
      "execution_count": 90,
      "outputs": []
    },
    {
      "cell_type": "code",
      "source": [
        "model.summary()"
      ],
      "metadata": {
        "colab": {
          "base_uri": "https://localhost:8080/"
        },
        "id": "vjFplrqdncMd",
        "outputId": "1ee180b2-22f8-4ae6-e57d-608869a8342f"
      },
      "execution_count": 91,
      "outputs": [
        {
          "output_type": "stream",
          "name": "stdout",
          "text": [
            "Model: \"model_8\"\n",
            "__________________________________________________________________________________________________\n",
            " Layer (type)                   Output Shape         Param #     Connected to                     \n",
            "==================================================================================================\n",
            " Team-1-In (InputLayer)         [(None, 1)]          0           []                               \n",
            "                                                                                                  \n",
            " Team-2-In (InputLayer)         [(None, 1)]          0           []                               \n",
            "                                                                                                  \n",
            " Team-Strength-Model (Functiona  (None, 1)           10888       ['Team-1-In[0][0]',              \n",
            " l)                                                               'Team-2-In[0][0]']              \n",
            "                                                                                                  \n",
            " subtract_3 (Subtract)          (None, 1)            0           ['Team-Strength-Model[0][0]',    \n",
            "                                                                  'Team-Strength-Model[1][0]']    \n",
            "                                                                                                  \n",
            "==================================================================================================\n",
            "Total params: 10,888\n",
            "Trainable params: 10,888\n",
            "Non-trainable params: 0\n",
            "__________________________________________________________________________________________________\n"
          ]
        }
      ]
    },
    {
      "cell_type": "markdown",
      "source": [
        "# Фитим данные регулярного сезона"
      ],
      "metadata": {
        "id": "Otgv6oYvpIeT"
      }
    },
    {
      "cell_type": "code",
      "source": [
        "# Get the team_1 column from the regular season data\n",
        "input_1 = games_season['team_1']\n",
        "\n",
        "# Get the team_2 column from the regular season data\n",
        "input_2 = games_season['team_2']\n",
        "\n",
        "# Fit the model to input 1 and 2, using score diff as a target\n",
        "model.fit([input_1, input_2],\n",
        "          games_season['score_diff'],\n",
        "          epochs=1,\n",
        "          batch_size=2048,\n",
        "          validation_split=.1,\n",
        "          verbose=True)"
      ],
      "metadata": {
        "colab": {
          "base_uri": "https://localhost:8080/"
        },
        "id": "p0vVxkImnd-N",
        "outputId": "44be7022-aa7a-4339-ed40-068165b32707"
      },
      "execution_count": 92,
      "outputs": [
        {
          "output_type": "stream",
          "name": "stdout",
          "text": [
            "138/138 [==============================] - 1s 3ms/step - loss: 12.1204 - val_loss: 11.8385\n"
          ]
        },
        {
          "output_type": "execute_result",
          "data": {
            "text/plain": [
              "<keras.callbacks.History at 0x7f223ef1edd0>"
            ]
          },
          "metadata": {},
          "execution_count": 92
        }
      ]
    },
    {
      "cell_type": "markdown",
      "source": [
        "Наша модель была обучена в рейтинге для каждой команды"
      ],
      "metadata": {
        "id": "6jApb2C0pUmt"
      }
    },
    {
      "cell_type": "markdown",
      "source": [
        "# Оценивание модели на тестовых данных турнира"
      ],
      "metadata": {
        "id": "3_MqnRg6pfrH"
      }
    },
    {
      "cell_type": "code",
      "source": [
        "games_tourney = pd.read_csv('games_tourney.csv')\n",
        "games_tourney.head()"
      ],
      "metadata": {
        "colab": {
          "base_uri": "https://localhost:8080/",
          "height": 206
        },
        "id": "LajofnbcpRJe",
        "outputId": "e66de55e-6714-49e2-fdde-387f4d50c6dd"
      },
      "execution_count": 93,
      "outputs": [
        {
          "output_type": "execute_result",
          "data": {
            "text/plain": [
              "   season  team_1  team_2  home  seed_diff  score_diff  score_1  score_2  won\n",
              "0    1985     288      73     0         -3          -9       41       50    0\n",
              "1    1985    5929      73     0          4           6       61       55    1\n",
              "2    1985    9884      73     0          5          -4       59       63    0\n",
              "3    1985      73     288     0          3           9       50       41    1\n",
              "4    1985    3920     410     0          1          -9       54       63    0"
            ],
            "text/html": [
              "\n",
              "  <div id=\"df-ef13a86e-5a9b-4fe8-b08a-fe5886cb14da\">\n",
              "    <div class=\"colab-df-container\">\n",
              "      <div>\n",
              "<style scoped>\n",
              "    .dataframe tbody tr th:only-of-type {\n",
              "        vertical-align: middle;\n",
              "    }\n",
              "\n",
              "    .dataframe tbody tr th {\n",
              "        vertical-align: top;\n",
              "    }\n",
              "\n",
              "    .dataframe thead th {\n",
              "        text-align: right;\n",
              "    }\n",
              "</style>\n",
              "<table border=\"1\" class=\"dataframe\">\n",
              "  <thead>\n",
              "    <tr style=\"text-align: right;\">\n",
              "      <th></th>\n",
              "      <th>season</th>\n",
              "      <th>team_1</th>\n",
              "      <th>team_2</th>\n",
              "      <th>home</th>\n",
              "      <th>seed_diff</th>\n",
              "      <th>score_diff</th>\n",
              "      <th>score_1</th>\n",
              "      <th>score_2</th>\n",
              "      <th>won</th>\n",
              "    </tr>\n",
              "  </thead>\n",
              "  <tbody>\n",
              "    <tr>\n",
              "      <th>0</th>\n",
              "      <td>1985</td>\n",
              "      <td>288</td>\n",
              "      <td>73</td>\n",
              "      <td>0</td>\n",
              "      <td>-3</td>\n",
              "      <td>-9</td>\n",
              "      <td>41</td>\n",
              "      <td>50</td>\n",
              "      <td>0</td>\n",
              "    </tr>\n",
              "    <tr>\n",
              "      <th>1</th>\n",
              "      <td>1985</td>\n",
              "      <td>5929</td>\n",
              "      <td>73</td>\n",
              "      <td>0</td>\n",
              "      <td>4</td>\n",
              "      <td>6</td>\n",
              "      <td>61</td>\n",
              "      <td>55</td>\n",
              "      <td>1</td>\n",
              "    </tr>\n",
              "    <tr>\n",
              "      <th>2</th>\n",
              "      <td>1985</td>\n",
              "      <td>9884</td>\n",
              "      <td>73</td>\n",
              "      <td>0</td>\n",
              "      <td>5</td>\n",
              "      <td>-4</td>\n",
              "      <td>59</td>\n",
              "      <td>63</td>\n",
              "      <td>0</td>\n",
              "    </tr>\n",
              "    <tr>\n",
              "      <th>3</th>\n",
              "      <td>1985</td>\n",
              "      <td>73</td>\n",
              "      <td>288</td>\n",
              "      <td>0</td>\n",
              "      <td>3</td>\n",
              "      <td>9</td>\n",
              "      <td>50</td>\n",
              "      <td>41</td>\n",
              "      <td>1</td>\n",
              "    </tr>\n",
              "    <tr>\n",
              "      <th>4</th>\n",
              "      <td>1985</td>\n",
              "      <td>3920</td>\n",
              "      <td>410</td>\n",
              "      <td>0</td>\n",
              "      <td>1</td>\n",
              "      <td>-9</td>\n",
              "      <td>54</td>\n",
              "      <td>63</td>\n",
              "      <td>0</td>\n",
              "    </tr>\n",
              "  </tbody>\n",
              "</table>\n",
              "</div>\n",
              "      <button class=\"colab-df-convert\" onclick=\"convertToInteractive('df-ef13a86e-5a9b-4fe8-b08a-fe5886cb14da')\"\n",
              "              title=\"Convert this dataframe to an interactive table.\"\n",
              "              style=\"display:none;\">\n",
              "        \n",
              "  <svg xmlns=\"http://www.w3.org/2000/svg\" height=\"24px\"viewBox=\"0 0 24 24\"\n",
              "       width=\"24px\">\n",
              "    <path d=\"M0 0h24v24H0V0z\" fill=\"none\"/>\n",
              "    <path d=\"M18.56 5.44l.94 2.06.94-2.06 2.06-.94-2.06-.94-.94-2.06-.94 2.06-2.06.94zm-11 1L8.5 8.5l.94-2.06 2.06-.94-2.06-.94L8.5 2.5l-.94 2.06-2.06.94zm10 10l.94 2.06.94-2.06 2.06-.94-2.06-.94-.94-2.06-.94 2.06-2.06.94z\"/><path d=\"M17.41 7.96l-1.37-1.37c-.4-.4-.92-.59-1.43-.59-.52 0-1.04.2-1.43.59L10.3 9.45l-7.72 7.72c-.78.78-.78 2.05 0 2.83L4 21.41c.39.39.9.59 1.41.59.51 0 1.02-.2 1.41-.59l7.78-7.78 2.81-2.81c.8-.78.8-2.07 0-2.86zM5.41 20L4 18.59l7.72-7.72 1.47 1.35L5.41 20z\"/>\n",
              "  </svg>\n",
              "      </button>\n",
              "      \n",
              "  <style>\n",
              "    .colab-df-container {\n",
              "      display:flex;\n",
              "      flex-wrap:wrap;\n",
              "      gap: 12px;\n",
              "    }\n",
              "\n",
              "    .colab-df-convert {\n",
              "      background-color: #E8F0FE;\n",
              "      border: none;\n",
              "      border-radius: 50%;\n",
              "      cursor: pointer;\n",
              "      display: none;\n",
              "      fill: #1967D2;\n",
              "      height: 32px;\n",
              "      padding: 0 0 0 0;\n",
              "      width: 32px;\n",
              "    }\n",
              "\n",
              "    .colab-df-convert:hover {\n",
              "      background-color: #E2EBFA;\n",
              "      box-shadow: 0px 1px 2px rgba(60, 64, 67, 0.3), 0px 1px 3px 1px rgba(60, 64, 67, 0.15);\n",
              "      fill: #174EA6;\n",
              "    }\n",
              "\n",
              "    [theme=dark] .colab-df-convert {\n",
              "      background-color: #3B4455;\n",
              "      fill: #D2E3FC;\n",
              "    }\n",
              "\n",
              "    [theme=dark] .colab-df-convert:hover {\n",
              "      background-color: #434B5C;\n",
              "      box-shadow: 0px 1px 3px 1px rgba(0, 0, 0, 0.15);\n",
              "      filter: drop-shadow(0px 1px 2px rgba(0, 0, 0, 0.3));\n",
              "      fill: #FFFFFF;\n",
              "    }\n",
              "  </style>\n",
              "\n",
              "      <script>\n",
              "        const buttonEl =\n",
              "          document.querySelector('#df-ef13a86e-5a9b-4fe8-b08a-fe5886cb14da button.colab-df-convert');\n",
              "        buttonEl.style.display =\n",
              "          google.colab.kernel.accessAllowed ? 'block' : 'none';\n",
              "\n",
              "        async function convertToInteractive(key) {\n",
              "          const element = document.querySelector('#df-ef13a86e-5a9b-4fe8-b08a-fe5886cb14da');\n",
              "          const dataTable =\n",
              "            await google.colab.kernel.invokeFunction('convertToInteractive',\n",
              "                                                     [key], {});\n",
              "          if (!dataTable) return;\n",
              "\n",
              "          const docLinkHtml = 'Like what you see? Visit the ' +\n",
              "            '<a target=\"_blank\" href=https://colab.research.google.com/notebooks/data_table.ipynb>data table notebook</a>'\n",
              "            + ' to learn more about interactive tables.';\n",
              "          element.innerHTML = '';\n",
              "          dataTable['output_type'] = 'display_data';\n",
              "          await google.colab.output.renderOutput(dataTable, element);\n",
              "          const docLink = document.createElement('div');\n",
              "          docLink.innerHTML = docLinkHtml;\n",
              "          element.appendChild(docLink);\n",
              "        }\n",
              "      </script>\n",
              "    </div>\n",
              "  </div>\n",
              "  "
            ]
          },
          "metadata": {},
          "execution_count": 93
        }
      ]
    },
    {
      "cell_type": "code",
      "source": [
        "# Get team_1 from the tournament data\n",
        "input_1 = games_tourney['team_1']\n",
        "\n",
        "# Get team_2 from the tournament data\n",
        "input_2 = games_tourney['team_2']\n",
        "\n",
        "# Evaluate the model using these inputs\n",
        "model.evaluate([input_1, input_2], games_tourney['score_diff'])"
      ],
      "metadata": {
        "colab": {
          "base_uri": "https://localhost:8080/"
        },
        "id": "0alAVs3Epk1Q",
        "outputId": "29eab1a3-de1c-499c-92a3-dcf769331fbe"
      },
      "execution_count": 94,
      "outputs": [
        {
          "output_type": "stream",
          "name": "stdout",
          "text": [
            "133/133 [==============================] - 0s 1ms/step - loss: 11.6821\n"
          ]
        },
        {
          "output_type": "execute_result",
          "data": {
            "text/plain": [
              "11.682055473327637"
            ]
          },
          "metadata": {},
          "execution_count": 94
        }
      ]
    },
    {
      "cell_type": "markdown",
      "source": [
        "# Несколько входов: 3 входа (и больше!)"
      ],
      "metadata": {
        "id": "9-LhoDfUpvFv"
      }
    },
    {
      "cell_type": "markdown",
      "source": [
        "Создаем входной слой для home vs. away"
      ],
      "metadata": {
        "id": "IiXnewhipz8F"
      }
    },
    {
      "cell_type": "markdown",
      "source": [
        "Мы знаем, что в баскетболе есть хорошо задокументированное преимущество домашней команды, поэтому добавим в свою модель новые входные данные, чтобы зафиксировать этот эффект"
      ],
      "metadata": {
        "id": "iD5JNfH6p_Ct"
      }
    },
    {
      "cell_type": "code",
      "source": [
        "from keras.layers.merge import Concatenate"
      ],
      "metadata": {
        "id": "DtyKnqjSpqbL"
      },
      "execution_count": 95,
      "outputs": []
    },
    {
      "cell_type": "code",
      "source": [
        "# Create an Input for each team\n",
        "team_in_1 = Input(shape=(1,), name='Team-1-In')\n",
        "team_in_2 = Input(shape=(1,), name='Team-2-In')\n",
        "\n",
        "# Create an input for home vs away\n",
        "home_in = Input(shape=(1,), name='Home-In')\n",
        "\n",
        "# Lookup the team inputs in the team strength model\n",
        "team_1_strength = team_strength_model(team_in_1)\n",
        "team_2_strength = team_strength_model(team_in_2)\n",
        "\n",
        "# Combine the team strengths with the home input using a Concatenate layer, then add a Dense layer\n",
        "out = Concatenate()([team_1_strength, team_2_strength, home_in])\n",
        "out = Dense(1)(out)"
      ],
      "metadata": {
        "id": "uc8QUgRzqFw7"
      },
      "execution_count": 96,
      "outputs": []
    },
    {
      "cell_type": "markdown",
      "source": [
        "Сейчас имеем 3 входных слоя"
      ],
      "metadata": {
        "id": "545ffnqAqcqG"
      }
    },
    {
      "cell_type": "markdown",
      "source": [
        "# Строим Модель"
      ],
      "metadata": {
        "id": "eX3sF3U6qhKt"
      }
    },
    {
      "cell_type": "code",
      "source": [
        "# Import the model class\n",
        "from keras.models import Model\n",
        "\n",
        "# Make a Model\n",
        "model = Model([team_in_1, team_in_2, home_in], out)\n",
        "\n",
        "# Compile the model\n",
        "model.compile(optimizer='adam', loss='mean_absolute_error')"
      ],
      "metadata": {
        "id": "B6T-bNVSqasz"
      },
      "execution_count": 97,
      "outputs": []
    },
    {
      "cell_type": "code",
      "source": [
        "model.summary()"
      ],
      "metadata": {
        "colab": {
          "base_uri": "https://localhost:8080/"
        },
        "id": "UyW6rwFFqpdU",
        "outputId": "b6ed8fbc-0bfe-408d-fda3-dd29bee7c782"
      },
      "execution_count": 98,
      "outputs": [
        {
          "output_type": "stream",
          "name": "stdout",
          "text": [
            "Model: \"model_9\"\n",
            "__________________________________________________________________________________________________\n",
            " Layer (type)                   Output Shape         Param #     Connected to                     \n",
            "==================================================================================================\n",
            " Team-1-In (InputLayer)         [(None, 1)]          0           []                               \n",
            "                                                                                                  \n",
            " Team-2-In (InputLayer)         [(None, 1)]          0           []                               \n",
            "                                                                                                  \n",
            " Team-Strength-Model (Functiona  (None, 1)           10888       ['Team-1-In[0][0]',              \n",
            " l)                                                               'Team-2-In[0][0]']              \n",
            "                                                                                                  \n",
            " Home-In (InputLayer)           [(None, 1)]          0           []                               \n",
            "                                                                                                  \n",
            " concatenate_1 (Concatenate)    (None, 3)            0           ['Team-Strength-Model[2][0]',    \n",
            "                                                                  'Team-Strength-Model[3][0]',    \n",
            "                                                                  'Home-In[0][0]']                \n",
            "                                                                                                  \n",
            " dense_13 (Dense)               (None, 1)            4           ['concatenate_1[0][0]']          \n",
            "                                                                                                  \n",
            "==================================================================================================\n",
            "Total params: 10,892\n",
            "Trainable params: 10,892\n",
            "Non-trainable params: 0\n",
            "__________________________________________________________________________________________________\n"
          ]
        }
      ]
    },
    {
      "cell_type": "markdown",
      "source": [
        "# Собирем модель и оценим"
      ],
      "metadata": {
        "id": "qLcAAyhmq0e3"
      }
    },
    {
      "cell_type": "code",
      "source": [
        "# Fit the model to the games_season dataset\n",
        "model.fit([games_season['team_1'], games_season['team_2'], games_season['home']],\n",
        "          games_season['score_diff'],\n",
        "          epochs=1,\n",
        "          verbose=True,\n",
        "          validation_split=.1,\n",
        "          batch_size=2048)\n",
        "\n",
        "# Оценка the model on the games_tourney dataset\n",
        "model.evaluate([games_tourney['team_1'], games_tourney['team_2'], games_tourney['home']], games_tourney['score_diff'])"
      ],
      "metadata": {
        "colab": {
          "base_uri": "https://localhost:8080/"
        },
        "id": "hJmkNO-FqrfB",
        "outputId": "987d7c16-dc18-47db-a0a7-366e15f15585"
      },
      "execution_count": 99,
      "outputs": [
        {
          "output_type": "stream",
          "name": "stdout",
          "text": [
            "138/138 [==============================] - 1s 4ms/step - loss: 11.9703 - val_loss: 12.4955\n",
            "133/133 [==============================] - 0s 1ms/step - loss: 11.6886\n"
          ]
        },
        {
          "output_type": "execute_result",
          "data": {
            "text/plain": [
              "11.688638687133789"
            ]
          },
          "metadata": {},
          "execution_count": 99
        }
      ]
    },
    {
      "cell_type": "markdown",
      "source": [
        "Обучение сети — это поиск параметров, минимизирующих функцию потерь (или функцию стоимости).\n",
        "\n",
        "Как видим, если больше входов меньше функция потерь"
      ],
      "metadata": {
        "id": "_jJdi3YCr6Yt"
      }
    },
    {
      "cell_type": "markdown",
      "source": [
        "# Plotting\n"
      ],
      "metadata": {
        "id": "MrRaX127sEO9"
      }
    },
    {
      "cell_type": "code",
      "source": [
        "# Imports\n",
        "import matplotlib.pyplot as plt\n",
        "from keras.utils.vis_utils import plot_model\n",
        "\n",
        "# Plot the model\n",
        "plot_model(model, to_file='model.png')\n",
        "\n",
        "# Display the image\n",
        "data = plt.imread('model.png')\n",
        "plt.imshow(data)\n",
        "plt.show()"
      ],
      "metadata": {
        "colab": {
          "base_uri": "https://localhost:8080/",
          "height": 248
        },
        "id": "FQ1nbXgOrCM2",
        "outputId": "b4e185cc-5f28-4a4c-f745-adfe0b013103"
      },
      "execution_count": 100,
      "outputs": [
        {
          "output_type": "display_data",
          "data": {
            "text/plain": [
              "<Figure size 432x288 with 1 Axes>"
            ],
            "image/png": "[encoded data removed]"
          },
          "metadata": {
            "needs_background": "light"
          }
        }
      ]
    },
    {
      "cell_type": "markdown",
      "source": [
        "# Добавим предсказания модели к данным турнира"
      ],
      "metadata": {
        "id": "9tqG33YzsZRt"
      }
    },
    {
      "cell_type": "code",
      "source": [
        "# Predict\n",
        "games_tourney['pred'] = model.predict([games_tourney['team_1'],games_tourney['team_2'],games_tourney['home']])"
      ],
      "metadata": {
        "id": "BbZ8UlNFsIPC"
      },
      "execution_count": 101,
      "outputs": []
    },
    {
      "cell_type": "code",
      "source": [
        "games_tourney.head()"
      ],
      "metadata": {
        "colab": {
          "base_uri": "https://localhost:8080/",
          "height": 206
        },
        "id": "hzD3AYpXsfxS",
        "outputId": "1ef638b1-83e7-4e9c-92f8-f24fe8f6b25b"
      },
      "execution_count": 102,
      "outputs": [
        {
          "output_type": "execute_result",
          "data": {
            "text/plain": [
              "   season  team_1  team_2  home  seed_diff  score_diff  score_1  score_2  won  \\\n",
              "0    1985     288      73     0         -3          -9       41       50    0   \n",
              "1    1985    5929      73     0          4           6       61       55    1   \n",
              "2    1985    9884      73     0          5          -4       59       63    0   \n",
              "3    1985      73     288     0          3           9       50       41    1   \n",
              "4    1985    3920     410     0          1          -9       54       63    0   \n",
              "\n",
              "       pred  \n",
              "0  0.087890  \n",
              "1  0.077235  \n",
              "2  0.105535  \n",
              "3  0.156003  \n",
              "4  0.144482  "
            ],
            "text/html": [
              "\n",
              "  <div id=\"df-ed17d0de-9e5e-4bf1-8cdb-d8b8932d95c9\">\n",
              "    <div class=\"colab-df-container\">\n",
              "      <div>\n",
              "<style scoped>\n",
              "    .dataframe tbody tr th:only-of-type {\n",
              "        vertical-align: middle;\n",
              "    }\n",
              "\n",
              "    .dataframe tbody tr th {\n",
              "        vertical-align: top;\n",
              "    }\n",
              "\n",
              "    .dataframe thead th {\n",
              "        text-align: right;\n",
              "    }\n",
              "</style>\n",
              "<table border=\"1\" class=\"dataframe\">\n",
              "  <thead>\n",
              "    <tr style=\"text-align: right;\">\n",
              "      <th></th>\n",
              "      <th>season</th>\n",
              "      <th>team_1</th>\n",
              "      <th>team_2</th>\n",
              "      <th>home</th>\n",
              "      <th>seed_diff</th>\n",
              "      <th>score_diff</th>\n",
              "      <th>score_1</th>\n",
              "      <th>score_2</th>\n",
              "      <th>won</th>\n",
              "      <th>pred</th>\n",
              "    </tr>\n",
              "  </thead>\n",
              "  <tbody>\n",
              "    <tr>\n",
              "      <th>0</th>\n",
              "      <td>1985</td>\n",
              "      <td>288</td>\n",
              "      <td>73</td>\n",
              "      <td>0</td>\n",
              "      <td>-3</td>\n",
              "      <td>-9</td>\n",
              "      <td>41</td>\n",
              "      <td>50</td>\n",
              "      <td>0</td>\n",
              "      <td>0.087890</td>\n",
              "    </tr>\n",
              "    <tr>\n",
              "      <th>1</th>\n",
              "      <td>1985</td>\n",
              "      <td>5929</td>\n",
              "      <td>73</td>\n",
              "      <td>0</td>\n",
              "      <td>4</td>\n",
              "      <td>6</td>\n",
              "      <td>61</td>\n",
              "      <td>55</td>\n",
              "      <td>1</td>\n",
              "      <td>0.077235</td>\n",
              "    </tr>\n",
              "    <tr>\n",
              "      <th>2</th>\n",
              "      <td>1985</td>\n",
              "      <td>9884</td>\n",
              "      <td>73</td>\n",
              "      <td>0</td>\n",
              "      <td>5</td>\n",
              "      <td>-4</td>\n",
              "      <td>59</td>\n",
              "      <td>63</td>\n",
              "      <td>0</td>\n",
              "      <td>0.105535</td>\n",
              "    </tr>\n",
              "    <tr>\n",
              "      <th>3</th>\n",
              "      <td>1985</td>\n",
              "      <td>73</td>\n",
              "      <td>288</td>\n",
              "      <td>0</td>\n",
              "      <td>3</td>\n",
              "      <td>9</td>\n",
              "      <td>50</td>\n",
              "      <td>41</td>\n",
              "      <td>1</td>\n",
              "      <td>0.156003</td>\n",
              "    </tr>\n",
              "    <tr>\n",
              "      <th>4</th>\n",
              "      <td>1985</td>\n",
              "      <td>3920</td>\n",
              "      <td>410</td>\n",
              "      <td>0</td>\n",
              "      <td>1</td>\n",
              "      <td>-9</td>\n",
              "      <td>54</td>\n",
              "      <td>63</td>\n",
              "      <td>0</td>\n",
              "      <td>0.144482</td>\n",
              "    </tr>\n",
              "  </tbody>\n",
              "</table>\n",
              "</div>\n",
              "      <button class=\"colab-df-convert\" onclick=\"convertToInteractive('df-ed17d0de-9e5e-4bf1-8cdb-d8b8932d95c9')\"\n",
              "              title=\"Convert this dataframe to an interactive table.\"\n",
              "              style=\"display:none;\">\n",
              "        \n",
              "  <svg xmlns=\"http://www.w3.org/2000/svg\" height=\"24px\"viewBox=\"0 0 24 24\"\n",
              "       width=\"24px\">\n",
              "    <path d=\"M0 0h24v24H0V0z\" fill=\"none\"/>\n",
              "    <path d=\"M18.56 5.44l.94 2.06.94-2.06 2.06-.94-2.06-.94-.94-2.06-.94 2.06-2.06.94zm-11 1L8.5 8.5l.94-2.06 2.06-.94-2.06-.94L8.5 2.5l-.94 2.06-2.06.94zm10 10l.94 2.06.94-2.06 2.06-.94-2.06-.94-.94-2.06-.94 2.06-2.06.94z\"/><path d=\"M17.41 7.96l-1.37-1.37c-.4-.4-.92-.59-1.43-.59-.52 0-1.04.2-1.43.59L10.3 9.45l-7.72 7.72c-.78.78-.78 2.05 0 2.83L4 21.41c.39.39.9.59 1.41.59.51 0 1.02-.2 1.41-.59l7.78-7.78 2.81-2.81c.8-.78.8-2.07 0-2.86zM5.41 20L4 18.59l7.72-7.72 1.47 1.35L5.41 20z\"/>\n",
              "  </svg>\n",
              "      </button>\n",
              "      \n",
              "  <style>\n",
              "    .colab-df-container {\n",
              "      display:flex;\n",
              "      flex-wrap:wrap;\n",
              "      gap: 12px;\n",
              "    }\n",
              "\n",
              "    .colab-df-convert {\n",
              "      background-color: #E8F0FE;\n",
              "      border: none;\n",
              "      border-radius: 50%;\n",
              "      cursor: pointer;\n",
              "      display: none;\n",
              "      fill: #1967D2;\n",
              "      height: 32px;\n",
              "      padding: 0 0 0 0;\n",
              "      width: 32px;\n",
              "    }\n",
              "\n",
              "    .colab-df-convert:hover {\n",
              "      background-color: #E2EBFA;\n",
              "      box-shadow: 0px 1px 2px rgba(60, 64, 67, 0.3), 0px 1px 3px 1px rgba(60, 64, 67, 0.15);\n",
              "      fill: #174EA6;\n",
              "    }\n",
              "\n",
              "    [theme=dark] .colab-df-convert {\n",
              "      background-color: #3B4455;\n",
              "      fill: #D2E3FC;\n",
              "    }\n",
              "\n",
              "    [theme=dark] .colab-df-convert:hover {\n",
              "      background-color: #434B5C;\n",
              "      box-shadow: 0px 1px 3px 1px rgba(0, 0, 0, 0.15);\n",
              "      filter: drop-shadow(0px 1px 2px rgba(0, 0, 0, 0.3));\n",
              "      fill: #FFFFFF;\n",
              "    }\n",
              "  </style>\n",
              "\n",
              "      <script>\n",
              "        const buttonEl =\n",
              "          document.querySelector('#df-ed17d0de-9e5e-4bf1-8cdb-d8b8932d95c9 button.colab-df-convert');\n",
              "        buttonEl.style.display =\n",
              "          google.colab.kernel.accessAllowed ? 'block' : 'none';\n",
              "\n",
              "        async function convertToInteractive(key) {\n",
              "          const element = document.querySelector('#df-ed17d0de-9e5e-4bf1-8cdb-d8b8932d95c9');\n",
              "          const dataTable =\n",
              "            await google.colab.kernel.invokeFunction('convertToInteractive',\n",
              "                                                     [key], {});\n",
              "          if (!dataTable) return;\n",
              "\n",
              "          const docLinkHtml = 'Like what you see? Visit the ' +\n",
              "            '<a target=\"_blank\" href=https://colab.research.google.com/notebooks/data_table.ipynb>data table notebook</a>'\n",
              "            + ' to learn more about interactive tables.';\n",
              "          element.innerHTML = '';\n",
              "          dataTable['output_type'] = 'display_data';\n",
              "          await google.colab.output.renderOutput(dataTable, element);\n",
              "          const docLink = document.createElement('div');\n",
              "          docLink.innerHTML = docLinkHtml;\n",
              "          element.appendChild(docLink);\n",
              "        }\n",
              "      </script>\n",
              "    </div>\n",
              "  </div>\n",
              "  "
            ]
          },
          "metadata": {},
          "execution_count": 102
        }
      ]
    },
    {
      "cell_type": "code",
      "source": [
        "games_tourney.score_diff.unique()"
      ],
      "metadata": {
        "colab": {
          "base_uri": "https://localhost:8080/"
        },
        "id": "Nmgp5RNrsiYo",
        "outputId": "70702dfd-55a1-44c8-8b60-0222da44ea7d"
      },
      "execution_count": 103,
      "outputs": [
        {
          "output_type": "execute_result",
          "data": {
            "text/plain": [
              "array([ -9,   6,  -4,   9,   3,  -2,  -1,   2,   5,   1, -13,   4,  -6,\n",
              "       -25, -12, -18, -17,  16,  -8,  -7, -16,   8, -19,  -3,  11, -11,\n",
              "        25, -24,  12,  23,  -5,   7,  19, -23,  13,  17,  24,  18,  10,\n",
              "        14, -10,  32,  49,  20, -21, -28, -15, -22, -20, -14,  15, -32,\n",
              "        21,  28, -49,  22,  34, -34, -31,  31, -40, -29,  40,  26,  27,\n",
              "       -26, -27,  29,  43, -37, -43,  37,  30, -35,  35, -30, -41,  41,\n",
              "       -38,  38,  39,  33, -39, -33, -44, -45,  45,  44,  36, -46,  46,\n",
              "       -36, -58,  58, -42,  42, -47,  47,  56, -56])"
            ]
          },
          "metadata": {},
          "execution_count": 103
        }
      ]
    },
    {
      "cell_type": "markdown",
      "source": [
        "Теперь попробуем построить с предиктами"
      ],
      "metadata": {
        "id": "YL3yceUWs5S9"
      }
    },
    {
      "cell_type": "markdown",
      "source": [
        "# Создать входной слой с несколькими столбцами"
      ],
      "metadata": {
        "id": "CeQpr40Vs_1P"
      }
    },
    {
      "cell_type": "code",
      "source": [
        "# Create an input layer with 3 columns\n",
        "input_tensor = Input((3,))\n",
        "\n",
        "# Pass it to a Dense layer with 1 unit\n",
        "output_tensor = Dense(1)(input_tensor)\n",
        "\n",
        "# Create a model\n",
        "model = Model(input_tensor, output_tensor)\n",
        "\n",
        "# Compile the model\n",
        "model.compile(optimizer='adam', loss='mean_absolute_error')"
      ],
      "metadata": {
        "id": "y0UtYogTs_Hp"
      },
      "execution_count": 104,
      "outputs": []
    },
    {
      "cell_type": "markdown",
      "source": [
        "# Fit"
      ],
      "metadata": {
        "id": "R2PGUH6qtMKA"
      }
    },
    {
      "cell_type": "code",
      "source": [
        "games_tourney_train = games_tourney.query('season < 2010')"
      ],
      "metadata": {
        "id": "Y2eokwJxsmzO"
      },
      "execution_count": 105,
      "outputs": []
    },
    {
      "cell_type": "code",
      "source": [
        "games_tourney_train.shape"
      ],
      "metadata": {
        "colab": {
          "base_uri": "https://localhost:8080/"
        },
        "id": "6OAn8bCKtV0Q",
        "outputId": "fbc27f7e-366d-4451-ac5e-d0057f754fdd"
      },
      "execution_count": 106,
      "outputs": [
        {
          "output_type": "execute_result",
          "data": {
            "text/plain": [
              "(3168, 10)"
            ]
          },
          "metadata": {},
          "execution_count": 106
        }
      ]
    },
    {
      "cell_type": "code",
      "source": [
        "# Fit the model\n",
        "model.fit(games_tourney_train[['home', 'seed_diff', 'pred']],\n",
        "          games_tourney_train['score_diff'],\n",
        "          epochs=1,\n",
        "          verbose=True)"
      ],
      "metadata": {
        "colab": {
          "base_uri": "https://localhost:8080/"
        },
        "id": "D5A9ORFytX4_",
        "outputId": "03023e12-f98a-4f60-90b4-1090ff9814c5"
      },
      "execution_count": 107,
      "outputs": [
        {
          "output_type": "stream",
          "name": "stdout",
          "text": [
            "99/99 [==============================] - 0s 1ms/step - loss: 15.0064\n"
          ]
        },
        {
          "output_type": "execute_result",
          "data": {
            "text/plain": [
              "<keras.callbacks.History at 0x7f223eb19ad0>"
            ]
          },
          "metadata": {},
          "execution_count": 107
        }
      ]
    },
    {
      "cell_type": "markdown",
      "source": [
        "Evaluate"
      ],
      "metadata": {
        "id": "3pytTT8stiAA"
      }
    },
    {
      "cell_type": "code",
      "source": [
        "games_tourney_test = games_tourney.query('season >= 2010')"
      ],
      "metadata": {
        "id": "ahX_JB7RtqHg"
      },
      "execution_count": 108,
      "outputs": []
    },
    {
      "cell_type": "code",
      "source": [
        "games_tourney_test.shape"
      ],
      "metadata": {
        "colab": {
          "base_uri": "https://localhost:8080/"
        },
        "id": "r1SK3XoQtstP",
        "outputId": "e1194320-0997-48ab-d091-de82f718f4a9"
      },
      "execution_count": 109,
      "outputs": [
        {
          "output_type": "execute_result",
          "data": {
            "text/plain": [
              "(1066, 10)"
            ]
          },
          "metadata": {},
          "execution_count": 109
        }
      ]
    },
    {
      "cell_type": "code",
      "source": [
        "# Evaluate the model on the games_tourney_test dataset\n",
        "model.evaluate(games_tourney_test[['home', 'seed_diff', 'pred']], \n",
        "               games_tourney_test['score_diff'])"
      ],
      "metadata": {
        "colab": {
          "base_uri": "https://localhost:8080/"
        },
        "id": "mu44xRdutd5x",
        "outputId": "09b1b805-bdcb-4d64-d388-06823911a837"
      },
      "execution_count": 110,
      "outputs": [
        {
          "output_type": "stream",
          "name": "stdout",
          "text": [
            "34/34 [==============================] - 0s 1ms/step - loss: 13.8310\n"
          ]
        },
        {
          "output_type": "execute_result",
          "data": {
            "text/plain": [
              "13.83099365234375"
            ]
          },
          "metadata": {},
          "execution_count": 110
        }
      ]
    },
    {
      "cell_type": "markdown",
      "source": [
        "О, еще меньше"
      ],
      "metadata": {
        "id": "g4mPYOynt6kd"
      }
    },
    {
      "cell_type": "markdown",
      "source": [
        "# Несколько выходов"
      ],
      "metadata": {
        "id": "_dESixmXuA7d"
      }
    },
    {
      "cell_type": "markdown",
      "source": [
        "«множественная целевая регрессия»: одна модель делает более одного прогноза."
      ],
      "metadata": {
        "id": "8ivm4gdBuFug"
      }
    },
    {
      "cell_type": "code",
      "source": [
        "# Define the input\n",
        "input_tensor = Input((2,))\n",
        "\n",
        "# Define the output\n",
        "output_tensor = Dense(2)(input_tensor)\n",
        "\n",
        "# Create a model\n",
        "model = Model(input_tensor, output_tensor)\n",
        "\n",
        "# Compile the model\n",
        "model.compile(optimizer='adam', loss='mean_absolute_error')"
      ],
      "metadata": {
        "id": "oi0dIMEhturA"
      },
      "execution_count": 111,
      "outputs": []
    },
    {
      "cell_type": "markdown",
      "source": [
        "# Fit"
      ],
      "metadata": {
        "id": "oEVuZZlTuN6V"
      }
    },
    {
      "cell_type": "code",
      "source": [
        "# Fit the model\n",
        "model.fit(games_tourney_train[['seed_diff', 'pred']],\n",
        "  \t\t  games_tourney_train[['score_1', 'score_2']],\n",
        "  \t\t  verbose=False,\n",
        "  \t\t  epochs=1000,\n",
        "  \t\t  batch_size=64)"
      ],
      "metadata": {
        "colab": {
          "base_uri": "https://localhost:8080/"
        },
        "id": "_W7peeibuJnz",
        "outputId": "d31ce38b-e52d-409d-8d76-99fed15a5d73"
      },
      "execution_count": 112,
      "outputs": [
        {
          "output_type": "execute_result",
          "data": {
            "text/plain": [
              "<keras.callbacks.History at 0x7f223eba4390>"
            ]
          },
          "metadata": {},
          "execution_count": 112
        }
      ]
    },
    {
      "cell_type": "code",
      "source": [
        "import numpy as np"
      ],
      "metadata": {
        "id": "vtSSHMavuQj3"
      },
      "execution_count": 113,
      "outputs": []
    },
    {
      "cell_type": "code",
      "source": [
        "np.mean(model.history.history['loss'])"
      ],
      "metadata": {
        "colab": {
          "base_uri": "https://localhost:8080/"
        },
        "id": "j7KgJMlauhXp",
        "outputId": "e73f16e4-b366-4b59-85e8-805495c984d4"
      },
      "execution_count": 114,
      "outputs": [
        {
          "output_type": "execute_result",
          "data": {
            "text/plain": [
              "43.54045794868469"
            ]
          },
          "metadata": {},
          "execution_count": 114
        }
      ]
    },
    {
      "cell_type": "markdown",
      "source": [
        "# Рассмотрим модель"
      ],
      "metadata": {
        "id": "mycpAPcNu-b7"
      }
    },
    {
      "cell_type": "markdown",
      "source": [
        "Входной слой будет иметь 4 веса: 2 для каждого входа, умноженное на 2 для каждого выхода.\n",
        "\n",
        "Выходной слой будет иметь 2 веса, по одному для каждого выхода."
      ],
      "metadata": {
        "id": "aIaMLQ-_vV5G"
      }
    },
    {
      "cell_type": "code",
      "source": [
        "# Веса\n",
        "print(model.get_weights())\n",
        "\n",
        "# Тренировочные данные средние значения\n",
        "print(games_tourney_train.mean())"
      ],
      "metadata": {
        "colab": {
          "base_uri": "https://localhost:8080/"
        },
        "id": "40JvttUvuoJw",
        "outputId": "60877bf2-5bfc-462c-da59-f3b842c21044"
      },
      "execution_count": 115,
      "outputs": [
        {
          "output_type": "stream",
          "name": "stdout",
          "text": [
            "[array([[ 0.5685208 , -0.57885724],\n",
            "       [49.781696  , 50.865234  ]], dtype=float32), array([49.800053, 49.803005], dtype=float32)]\n",
            "season        1997.045455\n",
            "team_1        5546.025568\n",
            "team_2        5546.025568\n",
            "home             0.000000\n",
            "seed_diff        0.000000\n",
            "score_diff       0.000000\n",
            "score_1         71.912247\n",
            "score_2         71.912247\n",
            "won              0.500000\n",
            "pred             0.135839\n",
            "dtype: float64\n"
          ]
        }
      ]
    },
    {
      "cell_type": "markdown",
      "source": [
        "оба выходных веса составляют около ~ 48? Это связано с тем, что в среднем команда на турнире набирает около 48 очков."
      ],
      "metadata": {
        "id": "_4oIUrPWvyt8"
      }
    },
    {
      "cell_type": "markdown",
      "source": [
        "# Оценка"
      ],
      "metadata": {
        "id": "zrCFmOPbv7RY"
      }
    },
    {
      "cell_type": "code",
      "source": [
        "# Evaluate the model on the tournament test data\n",
        "model.evaluate(games_tourney_test[['seed_diff', 'pred']],games_tourney_test[['score_1', 'score_2']])"
      ],
      "metadata": {
        "colab": {
          "base_uri": "https://localhost:8080/"
        },
        "id": "Ama78maaviO6",
        "outputId": "0410a0a2-6322-408f-e077-6a8401b1c549"
      },
      "execution_count": 116,
      "outputs": [
        {
          "output_type": "stream",
          "name": "stdout",
          "text": [
            "34/34 [==============================] - 0s 1ms/step - loss: 13.1982\n"
          ]
        },
        {
          "output_type": "execute_result",
          "data": {
            "text/plain": [
              "13.1981840133667"
            ]
          },
          "metadata": {},
          "execution_count": 116
        }
      ]
    },
    {
      "cell_type": "markdown",
      "source": [
        "# Classification and regression in one model\n"
      ],
      "metadata": {
        "id": "Vb0DO9nbwhbK"
      }
    },
    {
      "cell_type": "code",
      "source": [
        "# Create an input layer with 2 columns\n",
        "input_tensor = Input((2,))\n",
        "\n",
        "# Create the first output\n",
        "output_tensor_1 = Dense(1, activation='linear', use_bias=False)(input_tensor)\n",
        "\n",
        "# Create the second output (use the first output as input here)\n",
        "output_tensor_2 = Dense(1, activation='sigmoid', use_bias=False)(output_tensor_1)\n",
        "\n",
        "# Create a model with 2 outputs\n",
        "model = Model(input_tensor, [output_tensor_1, output_tensor_2])"
      ],
      "metadata": {
        "id": "HrNPMZOcwMYm"
      },
      "execution_count": 117,
      "outputs": []
    },
    {
      "cell_type": "markdown",
      "source": [
        "# fit"
      ],
      "metadata": {
        "id": "02-OKXQzwt9k"
      }
    },
    {
      "cell_type": "code",
      "source": [
        "# Import the Adam optimizer\n",
        "from tensorflow.keras.optimizers import Adam # - Works\n",
        "\n",
        "# Compile the model with 2 losses and the Adam optimzer with a higher learning rate\n",
        "model.compile(loss=['mean_absolute_error', 'binary_crossentropy'], optimizer=Adam(lr=0.01))\n",
        "\n",
        "# Fit the model to the tournament training data, with 2 inputs and 2 outputs\n",
        "model.fit(games_tourney_train[['seed_diff', 'pred']],\n",
        "          [games_tourney_train[['score_diff']], games_tourney_train[['won']]],\n",
        "          epochs=10,\n",
        "          verbose=True,\n",
        "          batch_size=16384)"
      ],
      "metadata": {
        "colab": {
          "base_uri": "https://localhost:8080/"
        },
        "id": "EDpG50FCwr24",
        "outputId": "db0bf252-c846-44ed-b570-4b871a57eae0"
      },
      "execution_count": 118,
      "outputs": [
        {
          "output_type": "stream",
          "name": "stdout",
          "text": [
            "Epoch 1/10\n"
          ]
        },
        {
          "output_type": "stream",
          "name": "stderr",
          "text": [
            "/usr/local/lib/python3.7/dist-packages/keras/optimizer_v2/adam.py:105: UserWarning: The `lr` argument is deprecated, use `learning_rate` instead.\n",
            "  super(Adam, self).__init__(name, **kwargs)\n"
          ]
        },
        {
          "output_type": "stream",
          "name": "stdout",
          "text": [
            "1/1 [==============================] - 1s 560ms/step - loss: 10.0738 - dense_16_loss: 9.2262 - dense_17_loss: 0.8476\n",
            "Epoch 2/10\n",
            "1/1 [==============================] - 0s 11ms/step - loss: 10.0626 - dense_16_loss: 9.2194 - dense_17_loss: 0.8433\n",
            "Epoch 3/10\n",
            "1/1 [==============================] - 0s 13ms/step - loss: 10.0515 - dense_16_loss: 9.2129 - dense_17_loss: 0.8387\n",
            "Epoch 4/10\n",
            "1/1 [==============================] - 0s 9ms/step - loss: 10.0403 - dense_16_loss: 9.2065 - dense_17_loss: 0.8339\n",
            "Epoch 5/10\n",
            "1/1 [==============================] - 0s 8ms/step - loss: 10.0291 - dense_16_loss: 9.2003 - dense_17_loss: 0.8288\n",
            "Epoch 6/10\n",
            "1/1 [==============================] - 0s 16ms/step - loss: 10.0180 - dense_16_loss: 9.1944 - dense_17_loss: 0.8237\n",
            "Epoch 7/10\n",
            "1/1 [==============================] - 0s 11ms/step - loss: 10.0071 - dense_16_loss: 9.1891 - dense_17_loss: 0.8181\n",
            "Epoch 8/10\n",
            "1/1 [==============================] - 0s 8ms/step - loss: 9.9964 - dense_16_loss: 9.1844 - dense_17_loss: 0.8120\n",
            "Epoch 9/10\n",
            "1/1 [==============================] - 0s 8ms/step - loss: 9.9858 - dense_16_loss: 9.1807 - dense_17_loss: 0.8051\n",
            "Epoch 10/10\n",
            "1/1 [==============================] - 0s 6ms/step - loss: 9.9754 - dense_16_loss: 9.1781 - dense_17_loss: 0.7972\n"
          ]
        },
        {
          "output_type": "execute_result",
          "data": {
            "text/plain": [
              "<keras.callbacks.History at 0x7f223e90c6d0>"
            ]
          },
          "metadata": {},
          "execution_count": 118
        }
      ]
    },
    {
      "cell_type": "markdown",
      "source": [
        "Adam - Согласно Kingma et al., 2014 , этот метод « эффективен в вычислительном отношении, требует мало памяти, инвариантен к диагональному масштабированию градиентов и хорошо подходит для задач, которые являются большими с точки зрения данных/параметров »."
      ],
      "metadata": {
        "id": "XD7E1-nDxAgG"
      }
    },
    {
      "cell_type": "markdown",
      "source": [
        "# Inspect"
      ],
      "metadata": {
        "id": "87qtLMG2xprR"
      }
    },
    {
      "cell_type": "code",
      "source": [
        "# Print the model weights\n",
        "print(model.get_weights())\n",
        "\n",
        "# Print the training data means\n",
        "print(games_tourney_train.mean())"
      ],
      "metadata": {
        "colab": {
          "base_uri": "https://localhost:8080/"
        },
        "id": "X6LNaMSkxCMN",
        "outputId": "6f1236a2-3377-47a0-af52-becd225de0fc"
      },
      "execution_count": 119,
      "outputs": [
        {
          "output_type": "stream",
          "name": "stdout",
          "text": [
            "[array([[ 1.111932  ],\n",
            "       [-0.95994455]], dtype=float32), array([[0.49986944]], dtype=float32)]\n",
            "season        1997.045455\n",
            "team_1        5546.025568\n",
            "team_2        5546.025568\n",
            "home             0.000000\n",
            "seed_diff        0.000000\n",
            "score_diff       0.000000\n",
            "score_1         71.912247\n",
            "score_2         71.912247\n",
            "won              0.500000\n",
            "pred             0.135839\n",
            "dtype: float64\n"
          ]
        }
      ]
    },
    {
      "cell_type": "code",
      "source": [
        "# Import the sigmoid function from scipy\n",
        "from scipy.special import expit as sigmoid\n",
        "\n",
        "# Weight from the model\n",
        "weight = 0.14\n",
        "\n",
        "# Print the approximate win probability predicted close game\n",
        "print(sigmoid(1 * weight))\n",
        "\n",
        "# Print the approximate win probability predicted blowout game\n",
        "print(sigmoid(10 * weight))"
      ],
      "metadata": {
        "colab": {
          "base_uri": "https://localhost:8080/"
        },
        "id": "d_wWn0kDxttH",
        "outputId": "a64a79a9-54d0-4ef7-bd48-16d392e34304"
      },
      "execution_count": 120,
      "outputs": [
        {
          "output_type": "stream",
          "name": "stdout",
          "text": [
            "0.5349429451582145\n",
            "0.8021838885585818\n"
          ]
        }
      ]
    },
    {
      "cell_type": "markdown",
      "source": [
        "Таким образом, сигмоид (1 * 0,14) равен 0,53, что представляет довольно близкую игру, а сигмоид (10 * 0,14) равен 0,80, что представляет довольно вероятный выигрыш. Другими словами, если модель предсказывает выигрыш в 1 очко, она менее уверена в выигрыше, чем если бы она предсказывала 10 очков. Кто сказал, что нейронные сети — это черные ящики"
      ],
      "metadata": {
        "id": "oO3tAl0AyMJW"
      }
    },
    {
      "cell_type": "markdown",
      "source": [
        "# Evaluate"
      ],
      "metadata": {
        "id": "_cMQJapByQmD"
      }
    },
    {
      "cell_type": "code",
      "source": [
        "# Evaluate the model on new data\n",
        "model.evaluate(games_tourney_test[['seed_diff', 'pred']],\n",
        "               [games_tourney_test[['score_diff']], games_tourney_test[['won']]])"
      ],
      "metadata": {
        "colab": {
          "base_uri": "https://localhost:8080/"
        },
        "id": "MzVsyb3Vx2p7",
        "outputId": "4c526b73-c649-4d26-8435-ffdfb8540eb6"
      },
      "execution_count": 121,
      "outputs": [
        {
          "output_type": "stream",
          "name": "stdout",
          "text": [
            "34/34 [==============================] - 0s 1ms/step - loss: 9.9951 - dense_16_loss: 9.0833 - dense_17_loss: 0.9118\n"
          ]
        },
        {
          "output_type": "execute_result",
          "data": {
            "text/plain": [
              "[9.995055198669434, 9.083268165588379, 0.9117881655693054]"
            ]
          },
          "metadata": {},
          "execution_count": 121
        }
      ]
    },
    {
      "cell_type": "markdown",
      "source": [
        "Keras вернет 3 числа:\n",
        "\n",
        "первое число будет суммой обеих функций потерь,\n",
        "\n",
        "следующие 2 числа будут функциями потерь, которые использовали при определении модели."
      ],
      "metadata": {
        "id": "6__DFtJmyhCG"
      }
    },
    {
      "cell_type": "markdown",
      "source": [
        "модель играет роль регрессора и хорошего классификатора"
      ],
      "metadata": {
        "id": "m1n1XD9yyqfI"
      }
    },
    {
      "cell_type": "code",
      "source": [
        ""
      ],
      "metadata": {
        "id": "BSQFDTeQyZe_"
      },
      "execution_count": 121,
      "outputs": []
    }
  ]
}